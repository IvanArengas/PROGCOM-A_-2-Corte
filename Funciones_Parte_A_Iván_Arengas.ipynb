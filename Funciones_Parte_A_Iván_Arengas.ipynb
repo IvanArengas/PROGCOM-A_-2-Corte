{
  "nbformat": 4,
  "nbformat_minor": 0,
  "metadata": {
    "colab": {
      "provenance": []
    },
    "kernelspec": {
      "name": "python3",
      "display_name": "Python 3"
    },
    "language_info": {
      "name": "python"
    }
  },
  "cells": [
    {
      "cell_type": "markdown",
      "source": [
        "#Funciones"
      ],
      "metadata": {
        "id": "QP8nN4Evz5i9"
      }
    },
    {
      "cell_type": "markdown",
      "source": [
        "def (nombre cualquiera de la función)(Parámetros o argumentos):\n",
        "      \n",
        "      Lo que va dentro de la función"
      ],
      "metadata": {
        "id": "OVByNk2F0vWC"
      }
    },
    {
      "cell_type": "markdown",
      "source": [
        "Tipos de funciones:\n",
        "\n",
        "1. Sin parámetros, sin retorno\n",
        "\n",
        "def manuel()\n",
        "\n",
        "    print(\"Tome su 5 por sapo\")\n",
        "\n",
        "2. Sin parámetros con retorno\n",
        "def Nicolas()\n",
        "\n",
        "    print(\"Hola Nicolas de sistemas\")\n",
        "\n",
        "    a=5\n",
        "\n",
        "    return a\n",
        "\n",
        "3. Con parámetros, sin retorno \n",
        "\n",
        "def hola(a,\"b\",x=3):\n",
        "    int a\n",
        "\n",
        "    b=string\n",
        "\n",
        "    x=boolean\n",
        "\n",
        "    print (\"Hola Sin palabras\")\n",
        "    \n",
        "    a=5\n",
        "\n",
        "4. Con parámetros, con retorno\n",
        "\n",
        "def hola(a,\"b\",x=3):\n",
        "    int a\n",
        "\n",
        "    b=string\n",
        "\n",
        "    x=boolean\n",
        "\n",
        "    print (\"Hola Sin palabras\")\n",
        "    \n",
        "    a=5\n",
        "\n",
        "    return a"
      ],
      "metadata": {
        "id": "Jsu3FLpO09k7"
      }
    },
    {
      "cell_type": "code",
      "execution_count": 5,
      "metadata": {
        "id": "C5fGh-Mkz1wx"
      },
      "outputs": [],
      "source": [
        "def salude():\n",
        "  print(\"Saludar\")\n",
        "  print(\"Es de cracks\")"
      ]
    },
    {
      "cell_type": "code",
      "source": [
        "salude()"
      ],
      "metadata": {
        "colab": {
          "base_uri": "https://localhost:8080/"
        },
        "id": "PbphXZZ05BH9",
        "outputId": "0e758b4d-ac49-4d0f-8a1f-b8ad7b97e773"
      },
      "execution_count": 4,
      "outputs": [
        {
          "output_type": "stream",
          "name": "stdout",
          "text": [
            "Saludar\n",
            "Es de cracks\n"
          ]
        }
      ]
    },
    {
      "cell_type": "code",
      "source": [
        "def imprimir(a,b,c):\n",
        "      print(a,\"es el mayor\")\n",
        "      print(b,\"es el  medio\")\n",
        "      print(c,\"es el menor\")"
      ],
      "metadata": {
        "id": "3ffZ4TmH-pfK"
      },
      "execution_count": 26,
      "outputs": []
    },
    {
      "cell_type": "code",
      "source": [
        "def comparar(a,b,c):\n",
        " if a !=b and a!=c and b!=c:\n",
        "  if a>b and a>c:\n",
        "    if b>c:\n",
        "      print(a,\"es el mayor\")\n",
        "      print(b,\"es el mayor medio\")\n",
        "      print(c,\"es el menor\")\n",
        "    else:\n",
        "      print(a,\"es el mayor\")\n",
        "      print(c,\"es el mayor medio\")\n",
        "      print(b,\"es el menor\")\n",
        "  elif b>a and b>c:\n",
        "    if a>c: \n",
        "      print(b,\"es el mayor\")\n",
        "      print(a,\"es el mayor medio\")\n",
        "      print(c,\"es el menor\")\n",
        "    else:\n",
        "      print(b,\"es el mayor\")\n",
        "      print(c,\"es el mayor medio\")\n",
        "      print(a,\"es el menor\")\n",
        "  if c>a and c>b:\n",
        "    if a>b:\n",
        "      print(c,\"es el mayor\")\n",
        "      print(a,\"es el mayor medio\")\n",
        "      print(b,\"es el menor\")\n",
        "    else:\n",
        "      print(c,\"es el mayor\")\n",
        "      print(b,\"es el mayor medio\")\n",
        "      print(a,\"es el menor\")\n",
        " else:\n",
        "  print(\"no se puede hacer el cálculo\")"
      ],
      "metadata": {
        "id": "0vq-Z3n2Atvo"
      },
      "execution_count": 28,
      "outputs": []
    },
    {
      "cell_type": "code",
      "source": [
        "\n",
        "a=int(input(\"ingrese un número \"))\n",
        "b=int(input(\"ingrese un número \"))\n",
        "c=int(input(\"ingrese un número \"))\n",
        "\n",
        "comparar(c,b,a)\n",
        "\n"
      ],
      "metadata": {
        "colab": {
          "base_uri": "https://localhost:8080/"
        },
        "id": "wMB_y6aX5DPl",
        "outputId": "99867819-166f-4d11-dcd5-dc213550ee7a"
      },
      "execution_count": 30,
      "outputs": [
        {
          "output_type": "stream",
          "name": "stdout",
          "text": [
            "ingrese un número 47\n",
            "ingrese un número 45\n",
            "ingrese un número 23\n",
            "47 es el mayor\n",
            "45 es el mayor medio\n",
            "23 es el menor\n"
          ]
        }
      ]
    },
    {
      "cell_type": "code",
      "source": [
        "def cositas(letra):\n",
        "  if letra in (\"a,e,i,o,u,A,E,I,O,U\"):\n",
        "    return\"vocal\"\n",
        "  elif letra in (\"y\",\"Y\"):\n",
        "    return \"consonante\"\n",
        "  else:\n",
        "    return \"consonante\"\n",
        "i= input(\"escriba una letra cualquiera:\")\n",
        "print(cositas(i))"
      ],
      "metadata": {
        "colab": {
          "base_uri": "https://localhost:8080/"
        },
        "id": "ggZdAqyCFOZm",
        "outputId": "137d4df2-20d3-40d9-b94d-c87588c4c91b"
      },
      "execution_count": 34,
      "outputs": [
        {
          "output_type": "stream",
          "name": "stdout",
          "text": [
            "escriba una letra cualquiera:t\n",
            "consonante\n"
          ]
        }
      ]
    }
  ]
}