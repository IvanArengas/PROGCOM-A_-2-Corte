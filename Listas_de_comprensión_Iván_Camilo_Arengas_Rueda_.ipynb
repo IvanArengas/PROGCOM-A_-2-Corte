{
  "nbformat": 4,
  "nbformat_minor": 0,
  "metadata": {
    "colab": {
      "provenance": [],
      "collapsed_sections": []
    },
    "kernelspec": {
      "name": "python3",
      "display_name": "Python 3"
    },
    "language_info": {
      "name": "python"
    }
  },
  "cells": [
    {
      "cell_type": "markdown",
      "source": [
        "Explicación por **Daniel Castro**\n",
        "\n",
        "Sintaxis. NewLista=[expresión(elemento)for elemento n in OldLista si condición.\n",
        "\n",
        "Poner primero la expresión u operación y luego la condición.\n",
        "\n",
        "##Ventajas:\n",
        "Más eficientes y espacio que los bucles.\n",
        "\n",
        "Requiere menos líneas de código.\n",
        "\n",
        "Transformar una declaración iterativa en una fórmula.\n"
      ],
      "metadata": {
        "id": "lqrf9psY_F0l"
      }
    },
    {
      "cell_type": "code",
      "source": [
        "números=[(n*2)for n in range(1,9)]\n",
        "print(números)"
      ],
      "metadata": {
        "colab": {
          "base_uri": "https://localhost:8080/"
        },
        "id": "E_IomYmgHsI6",
        "outputId": "0083382f-77e8-4637-90a7-cb62d92e1d60"
      },
      "execution_count": null,
      "outputs": [
        {
          "output_type": "stream",
          "name": "stdout",
          "text": [
            "[2, 4, 6, 8, 10, 12, 14, 16]\n"
          ]
        }
      ]
    },
    {
      "cell_type": "code",
      "source": [
        "cadenas=[\"*\" * n for n in range(1,6)]\n",
        "print(cadenas)"
      ],
      "metadata": {
        "colab": {
          "base_uri": "https://localhost:8080/"
        },
        "id": "K85cntr--1a7",
        "outputId": "02e8af49-c388-4062-9994-eb4b72f9f4f8"
      },
      "execution_count": null,
      "outputs": [
        {
          "output_type": "stream",
          "name": "stdout",
          "text": [
            "['*', '**', '***', '****', '*****']\n"
          ]
        }
      ]
    },
    {
      "cell_type": "code",
      "source": [
        "#Ejercicio de Samuel\n",
        "x=input(\"Ingrese la palabra que desee: \")\n",
        "lista=[n for n in x]\n",
        "print(lista)"
      ],
      "metadata": {
        "colab": {
          "base_uri": "https://localhost:8080/"
        },
        "id": "lK2FhcUNCfsP",
        "outputId": "458bf044-12c1-4db7-bff4-fbc04a6cb134"
      },
      "execution_count": null,
      "outputs": [
        {
          "output_type": "stream",
          "name": "stdout",
          "text": [
            "Ingrese la palabra que desee: ivan\n",
            "['i', 'v', 'a', 'n']\n"
          ]
        }
      ]
    },
    {
      "cell_type": "code",
      "source": [
        "#Ejercicio de daniel amado\n",
        "lista1=[8,5,4,10,2]\n",
        "lista2=[elementos**2 for elementos in lista1 if elementos %2==0]\n",
        "print(\"Imprime los números pares de la lista\",lista2)"
      ],
      "metadata": {
        "colab": {
          "base_uri": "https://localhost:8080/"
        },
        "id": "bcO3Z3tq-1OM",
        "outputId": "86dd1d5f-3264-4020-bec1-9cc2e0772df7"
      },
      "execution_count": null,
      "outputs": [
        {
          "output_type": "stream",
          "name": "stdout",
          "text": [
            "Imprime los números pares de la lista [64, 16, 100, 4]\n"
          ]
        }
      ]
    },
    {
      "cell_type": "code",
      "source": [
        "#Ejercicio de Iván Arengas\n",
        "import random\n",
        "capitan = [random.randrange(1, 30) for i in range(9)]\n",
        "print (\"Imprime números aleatorios de la lista : \", str(capitan))"
      ],
      "metadata": {
        "colab": {
          "base_uri": "https://localhost:8080/"
        },
        "id": "qvKk6Dg4sGoF",
        "outputId": "b2bebf0d-efef-4f85-f997-75aa38f6d02e"
      },
      "execution_count": null,
      "outputs": [
        {
          "output_type": "stream",
          "name": "stdout",
          "text": [
            "Imprime números aleatorios de la lista :  [23, 9, 25, 14, 20, 3, 8, 29, 22]\n"
          ]
        }
      ]
    },
    {
      "cell_type": "code",
      "source": [
        "#Ejercicio Juan pablo barajas\n",
        "precios=[]\n",
        "print(\"Ingrese los números de los que quieres hacer un descuento\")\n",
        "det= True\n",
        "while det:\n",
        "  num=int(input(\" Si no desea agregar mas números digite 0 \"))\n",
        "  precios.append(num)\n",
        "  det = False if num== 0 else num>0\n",
        "des=float(input((\" Ingrese el descuento sin el %\")))\n",
        "presdes= [precio*des/100 for precio in precios]  \n",
        "presdes.pop(-1)\n",
        "print(\" Este es el valor que le debes restar a cada número \",presdes)\n"
      ],
      "metadata": {
        "colab": {
          "base_uri": "https://localhost:8080/"
        },
        "id": "WcxBId0zFI6m",
        "outputId": "eca2b42d-8f1a-4514-d83e-29cd52f335e4"
      },
      "execution_count": null,
      "outputs": [
        {
          "output_type": "stream",
          "name": "stdout",
          "text": [
            "Ingrese los números de los que quieres hacer un descuento\n",
            " Si no desea agregar mas números digite 0 100\n",
            " Si no desea agregar mas números digite 0 200\n",
            " Si no desea agregar mas números digite 0 300\n",
            " Si no desea agregar mas números digite 0 0\n",
            " Ingrese el descuento sin el %20\n",
            " Este es el valor que le debes restar a cada número  [20.0, 40.0, 60.0]\n"
          ]
        }
      ]
    },
    {
      "cell_type": "code",
      "source": [
        "#Ejercicio de Acuña Sin palabras\n",
        "num = []\n",
        "for i in range(6):\n",
        "  num.append(int(input(\" Introduce el número ganador \")))\n",
        "num.sort()\n",
        "print(\"Los números ganadores del baloto son : \" + str(num))  "
      ],
      "metadata": {
        "colab": {
          "base_uri": "https://localhost:8080/"
        },
        "id": "x0TGKYxZHdKa",
        "outputId": "f852d992-c62b-4733-c6c3-b1c38bf229e4"
      },
      "execution_count": null,
      "outputs": [
        {
          "output_type": "stream",
          "name": "stdout",
          "text": [
            " Introduce el número ganador 82\n",
            " Introduce el número ganador 23\n",
            " Introduce el número ganador 35\n",
            " Introduce el número ganador 99\n",
            " Introduce el número ganador 1\n",
            " Introduce el número ganador 12\n",
            "Los números ganadores del baloto son : [1, 12, 23, 35, 82, 99]\n"
          ]
        }
      ]
    },
    {
      "cell_type": "code",
      "source": [
        "#Ejercicio de Julio\n",
        "##De la manera tradicional\n",
        "n=int(input(\" Ingrese el número de palabras que vas a ingresar \"))\n",
        "lista=[]\n",
        "lista1=[]\n",
        "for i in range(n):\n",
        "  l=input(\" Ingrese una palabra \")\n",
        "  if l.isupper(): lista.append(l)\n",
        "  if l.islower(): lista1.append(l)\n",
        "print(lista)\n",
        "print(lista1)"
      ],
      "metadata": {
        "colab": {
          "base_uri": "https://localhost:8080/"
        },
        "id": "R3BIWX7guHc1",
        "outputId": "3705fee5-d616-42d1-8e4a-927a591b41b6"
      },
      "execution_count": 11,
      "outputs": [
        {
          "output_type": "stream",
          "name": "stdout",
          "text": [
            " Ingrese el número de palabras que vas a ingresar 2\n",
            " Ingrese una palabra CAPITAN\n",
            " Ingrese una palabra programación\n",
            "['CAPITAN']\n",
            "['programación']\n"
          ]
        }
      ]
    },
    {
      "cell_type": "code",
      "source": [
        "#Ejercicio de Julio\n",
        "##Por comprensión\n",
        "n=int(input(\" Ingrese el número de palabras que vas a ingresar \"))\n",
        "lista3=[]\n",
        "for i in range(n):\n",
        "  l=input(\" Ingrese la palabra \")\n",
        "  lista3.append(l)\n",
        "lista_comprimida_M=[elemento for elemento in lista3 if elemento.isupper()]  \n",
        "lista_comprimida_m=[elemento for elemento in lista3 if elemento.islower()]\n",
        "\n",
        "print(\" Las palabras escritas mayúsculas son \" ,lista_comprimida_M )\n",
        "print(\" Las palabras escritas en minúsculas son \" ,lista_comprimida_m)"
      ],
      "metadata": {
        "colab": {
          "base_uri": "https://localhost:8080/"
        },
        "id": "n_PU5BL-0IlR",
        "outputId": "5fb55dbe-5159-4cb7-fff6-70a97f40eb9c"
      },
      "execution_count": 18,
      "outputs": [
        {
          "output_type": "stream",
          "name": "stdout",
          "text": [
            " Ingrese el número de palabras que vas a ingresar 2\n",
            " Ingrese la palabra HOLA\n",
            " Ingrese la palabra hola\n",
            " Las palabras escritas mayúsculas son  ['HOLA']\n",
            " Las palabras escritas en minúsculas son  ['hola']\n"
          ]
        }
      ]
    },
    {
      "cell_type": "code",
      "source": [
        "#Ejercicio de Julio\n",
        "##Por LAMBDA\n",
        "\n",
        "lista_comprimida_M=list(map(lambda elemento:True if elemento.isupper()else False,lista3))\n",
        "lista_comprimida_m=list(map(lambda elemento:True if elemento.islower()else False,lista3))\n",
        "print(\" Las palabras escritas mayúsculas son: \" ,lista_comprimida_M )\n",
        "print(\" Las palabras escritas en minúsculas son: \" ,lista_comprimida_m)"
      ],
      "metadata": {
        "colab": {
          "base_uri": "https://localhost:8080/"
        },
        "id": "VeQkaL7T3Dyw",
        "outputId": "4b0b52ca-cfb1-46a5-bc71-7390663e39c8"
      },
      "execution_count": 19,
      "outputs": [
        {
          "output_type": "stream",
          "name": "stdout",
          "text": [
            " Las palabras escritas mayúsculas son  [True, False]\n",
            " Las palabras escritas en minúsculas son  [False, True]\n"
          ]
        }
      ]
    },
    {
      "cell_type": "code",
      "source": [
        "#Ejercicio de Leslie Karina\n",
        "def pali(word):\n",
        "  rev=word[::-1]\n",
        "  return word==rev\n",
        "word=input(\"Digita una palabra \").lower()\n",
        "final=pali(word)\n",
        "if final == True:\n",
        "    print(f\"{word} SI es una palabra palíndormo\")\n",
        "else:\n",
        "    print(f\"{word} NO es una palabra palíndormo\")  "
      ],
      "metadata": {
        "colab": {
          "base_uri": "https://localhost:8080/"
        },
        "id": "P3mll93H6L-j",
        "outputId": "6956edeb-c695-4601-f343-f7d8c429d947"
      },
      "execution_count": 23,
      "outputs": [
        {
          "output_type": "stream",
          "name": "stdout",
          "text": [
            "Digita una palabra somos\n",
            "somos SI es una palabra palíndormo\n"
          ]
        }
      ]
    },
    {
      "cell_type": "code",
      "source": [
        "#Ejercicio de Leslie Karina\n",
        "## POR LAMBDA\n",
        "c=int(input(\" Digita la cantidad de elementos que deseas ingresar\"))\n",
        "lista1=[]\n",
        "for i in range(c):\n",
        "   word=input(\"Escribe Aquí\").lower()\n",
        "   lista1.append(word)\n",
        "print(lista1)\n",
        "lista2=list(map(lambda x:True if x==x[::-1] else False, lista1))\n",
        "lista2"
      ],
      "metadata": {
        "colab": {
          "base_uri": "https://localhost:8080/"
        },
        "id": "bUh3JLPvBcnz",
        "outputId": "108586d9-3adb-4e93-c087-efc3251e1e04"
      },
      "execution_count": 25,
      "outputs": [
        {
          "output_type": "stream",
          "name": "stdout",
          "text": [
            " Digita la cantidad de elementos que deseas ingresar2\n",
            "Escribe Aquíana\n",
            "Escribe Aquíivan\n",
            "['ana', 'ivan']\n"
          ]
        },
        {
          "output_type": "execute_result",
          "data": {
            "text/plain": [
              "[True, False]"
            ]
          },
          "metadata": {},
          "execution_count": 25
        }
      ]
    },
    {
      "cell_type": "code",
      "source": [
        "##Ejercicio Manuel\n",
        "import random\n",
        "#Declaro la lista del inventario\n",
        "stock=['martillo','alicate','clavo','perno']\n",
        "#Declaro la lista que me dice si el objeto es de buena calidad o mala\n",
        "cality=['GOOD','FAIL']\n",
        "a=[]\n",
        "#Este for es para agregarle una calidad usando random\n",
        "for i in stock:\n",
        "  #La variablea guarda por ejemplo: martilloGOOD que significa que es de buena calidad\n",
        "  a.append((i, random.choice(cality)))\n",
        "#Defino las listas que me van a guardar cuáles elementos tienen buena calidad o no\n",
        "listg=[]\n",
        "listf=[]\n",
        "#Aquí guardo en cada lista los de la calidad y los malucos\n",
        "for x in a:\n",
        "  if 'GOOD' in x:\n",
        "    listg.append(x)\n",
        "    #Uso elif para ver mejor el funcionamiento\n",
        "  elif 'FAIL' in x:\n",
        "    listf.append(x)\n",
        "print(\"Estos no deberias comprar\",listf)\n",
        "print(\"Estos deberías comprar\",listg)\n"
      ],
      "metadata": {
        "colab": {
          "base_uri": "https://localhost:8080/"
        },
        "id": "G5KZvWSNCrjq",
        "outputId": "9c9d5898-4c82-42b4-e77b-930a842d6d8a"
      },
      "execution_count": 35,
      "outputs": [
        {
          "output_type": "stream",
          "name": "stdout",
          "text": [
            "Estos no deberias comprar [('martillo', 'FAIL'), ('alicate', 'FAIL'), ('perno', 'FAIL')]\n",
            "Estos deberías comprar [('clavo', 'GOOD')]\n"
          ]
        }
      ]
    },
    {
      "cell_type": "code",
      "source": [
        "##Ejercicio de Manuel\n",
        "#Por comprensión\n",
        "import random\n",
        "stock=['martillo','alicate','clavo','perno']\n",
        "cality=['GOOD','FAIL']\n",
        "a=[]\n",
        "for i in stock:\n",
        "  a.append((i,random.choice(cality)))\n",
        "listg=[]\n",
        "listf=[]\n",
        "listg=[x for x in a if 'GOOD' in x]\n",
        "listf=[x for x in a if 'FAIL' in x]\n",
        "print(listf,listg)"
      ],
      "metadata": {
        "colab": {
          "base_uri": "https://localhost:8080/"
        },
        "id": "JDEYGDXfCykR",
        "outputId": "ecc20cc6-09b4-4d9a-d795-06191f196ca7"
      },
      "execution_count": 27,
      "outputs": [
        {
          "output_type": "stream",
          "name": "stdout",
          "text": [
            "[('alicate', 'FAIL'), ('clavo', 'FAIL')] [('martillo', 'GOOD'), ('perno', 'GOOD')]\n"
          ]
        }
      ]
    },
    {
      "cell_type": "code",
      "source": [
        "##Lambda\n",
        "##HACE FALTA"
      ],
      "metadata": {
        "id": "qh4yL_jSFN0H"
      },
      "execution_count": 36,
      "outputs": []
    },
    {
      "cell_type": "code",
      "source": [
        "#EJERCICIO Paula\n",
        "#Tradicional\n",
        "def capitalizar(oracion):\n",
        "  lista4=[]\n",
        "  for l in n1:\n",
        "    lista4.append(l)\n",
        "    lista4[0]=n1[0].upper()\n",
        "  print(\"\".join(lista4))\n"
      ],
      "metadata": {
        "id": "B7PAgKyfGjbl"
      },
      "execution_count": 46,
      "outputs": []
    },
    {
      "cell_type": "code",
      "source": [
        "n1=input(\"Ingrese una oración\")\n",
        "oracion=capitalizar(n1)\n",
        "oracion"
      ],
      "metadata": {
        "colab": {
          "base_uri": "https://localhost:8080/"
        },
        "id": "J4ivkq0xH58X",
        "outputId": "bc90f63a-f1cb-4be2-c5cb-e3dbba510d37"
      },
      "execution_count": 47,
      "outputs": [
        {
          "output_type": "stream",
          "name": "stdout",
          "text": [
            "Ingrese una oraciónhola carambola\n",
            "Hola carambola\n"
          ]
        }
      ]
    },
    {
      "cell_type": "code",
      "source": [
        "#EJERCICIO PAULA\n",
        "listap=[]\n",
        "n=input(\"Ingresa una oración\")\n",
        "for l in n:\n",
        "  listap.append(l)\n",
        "  listap[0]=n[0].upper()\n",
        "print(\"\".join(listap))  "
      ],
      "metadata": {
        "colab": {
          "base_uri": "https://localhost:8080/"
        },
        "id": "-ffr2xfiIfwt",
        "outputId": "90d3df84-76bd-467e-b6fe-db051980aa78"
      },
      "execution_count": 48,
      "outputs": [
        {
          "output_type": "stream",
          "name": "stdout",
          "text": [
            "Ingresa una oracióndaniel\n",
            "Daniel\n"
          ]
        }
      ]
    },
    {
      "cell_type": "code",
      "source": [
        "#EJERCICIO Paula\n",
        "#Lambda\n",
        "n3=lambda x:x[0].upper()+x[1::]\n",
        "n=n3(n)\n",
        "n"
      ],
      "metadata": {
        "colab": {
          "base_uri": "https://localhost:8080/",
          "height": 35
        },
        "id": "D2_QN-GKOyRR",
        "outputId": "fd76b798-27c7-482e-de80-0384ef2ea35e"
      },
      "execution_count": 59,
      "outputs": [
        {
          "output_type": "execute_result",
          "data": {
            "text/plain": [
              "'Daniel'"
            ],
            "application/vnd.google.colaboratory.intrinsic+json": {
              "type": "string"
            }
          },
          "metadata": {},
          "execution_count": 59
        }
      ]
    },
    {
      "cell_type": "code",
      "source": [
        "##Ejercicio Francisco Miranda\n",
        "##Tradicional\n",
        "import random\n",
        "x=input(\"Ingrese la palabra o relación que desea la contraseña\")\n",
        "palabra = [letra for letra in x]\n",
        "números =[num for num in range (0,10)]\n",
        "generador=[random.choice(números) or random.choice(palabra) for num in range(0,11)]\n",
        "print(generador)"
      ],
      "metadata": {
        "colab": {
          "base_uri": "https://localhost:8080/"
        },
        "id": "OaHd_O9KJkHW",
        "outputId": "58e1b870-7ade-45e9-d33e-8c14b982ae24"
      },
      "execution_count": 54,
      "outputs": [
        {
          "output_type": "stream",
          "name": "stdout",
          "text": [
            "Ingrese la palabra o relación que desea la contraseñanumeros\n",
            "[7, 1, 3, 'n', 7, 6, 'u', 4, 2, 9, 'o']\n"
          ]
        }
      ]
    },
    {
      "cell_type": "code",
      "source": [
        "##Ejercicio Francisco Miranda\n",
        "##Comprensión\n",
        "import random \n",
        "palabras = [\"a\", \"e\",\"i\",\"o\",\"u\"]\n",
        "numeros =[1,2,3,4,5,6,7,8,9]\n",
        "generador=[]\n",
        "for i in range(0,5):\n",
        " generador.append(random.choice(palabras))\n",
        " generador.append(random.choice(numeros))\n",
        "print(generador)\n"
      ],
      "metadata": {
        "colab": {
          "base_uri": "https://localhost:8080/"
        },
        "id": "II5rBSgTLcq2",
        "outputId": "3b2a9f2f-6d1f-459d-d8b0-9d91b667785e"
      },
      "execution_count": 56,
      "outputs": [
        {
          "output_type": "stream",
          "name": "stdout",
          "text": [
            "['e', 8, 'o', 6, 'u', 3, 'o', 3, 'a', 1]\n"
          ]
        }
      ]
    },
    {
      "cell_type": "code",
      "source": [
        "##Ejercicio Francisco Miranda\n",
        "##LAMBDA\n",
        "import random\n",
        "x=input(\"Ingrese la palabra o relación que desea la contraseña\")\n",
        "palabras = [letra for letra in x]\n",
        "numeros =[num for num in range (0,10)]\n",
        "generador=[random.choice(list(map(lambda x:x,numeros))) or random.choice(sorted(palabras, key=lambda letra:letra in palabras)) for num in range(0,11)]\n",
        "print(generador)"
      ],
      "metadata": {
        "colab": {
          "base_uri": "https://localhost:8080/"
        },
        "id": "S5G7WArOLk2z",
        "outputId": "3c26fb3f-ecaa-4814-d59f-8a7e4c76c035"
      },
      "execution_count": 57,
      "outputs": [
        {
          "output_type": "stream",
          "name": "stdout",
          "text": [
            "Ingrese la palabra o relación que desea la contraseñanumeros\n",
            "[9, 3, 9, 9, 1, 2, 1, 7, 1, 6, 9]\n"
          ]
        }
      ]
    },
    {
      "cell_type": "code",
      "source": [
        "##Ejercicio Ana\n",
        "#normal\n",
        "print(\"¡Hola! Soy Lucía del sistema de asignación de turnos para pasaporte de la Gobernación \\n Solo las personas mayores de edad tendrán su cita mañana en el rango de 6am a 12 pm \\n y los menores de edad la tendrán en el rango de 2pm a 6pm \\n \" )\n",
        "lista1=[('Pedro',33),('Ana',3),('Juan',13),('Carla',45)]\n",
        "lista2=[]\n",
        "lista3=[]\n",
        "for elemento in lista1:\n",
        "  if elemento[1]>=18:\n",
        "    lista2.append(elemento)\n",
        "print(f'{lista2} tendrán la cita a las 8am y 10am respectivamente')\n",
        "\n",
        "for elemento in lista1:\n",
        "  if elemento[1]<18:\n",
        "    lista3.append(elemento)\n",
        "print(f'{lista3} tendrán la cita a las 2pm y 4pm respectivamente')"
      ],
      "metadata": {
        "colab": {
          "base_uri": "https://localhost:8080/"
        },
        "id": "0bNA143IO5oZ",
        "outputId": "d11e16c1-87cf-47e8-e0f9-cf6a5158f022"
      },
      "execution_count": 60,
      "outputs": [
        {
          "output_type": "stream",
          "name": "stdout",
          "text": [
            "¡Hola! Soy Lucía del sistema de asignación de turnos para pasaporte de la Gobernación \n",
            " Solo las personas mayores de edad tendrán su cita mañana en el rango de 6am a 12 pm \n",
            " y los menores de edad la tendrán en el rango de 2pm a 6pm \n",
            " \n",
            "[('Pedro', 33), ('Carla', 45)] tendrán la cita a las 8am y 10am respectivamente\n",
            "[('Ana', 3), ('Juan', 13)] tendrán la cita a las 2pm y 4pm respectivamente\n"
          ]
        }
      ]
    },
    {
      "cell_type": "code",
      "source": [
        "##Ejercicio Ana\n",
        "#Comprensión\n",
        "print(\"¡Hola! Soy Lucía del sistema de asignación de turnos para pasaporte de la Gobernación \\n Solo las personas mayores de edad tendrán su cita mañana en el rango de 6am a 12 pm \\n y los menores de edad la tendrán en el rango de 2pm a 6pm \\n \" )\n",
        "personas=[('Pedro',33),('Ana',3),('Juan',13),('Carla',45)]\n",
        "\n",
        "\n",
        "personas_mayores=[per for per in personas if per[1]>=18]\n",
        "print(f'{personas_mayores} tendrán la cita a las 8am y 10am respectivamente')\n",
        "\n",
        "personas_menores=[per for per in personas if per[1]<18]\n",
        "print(f'{personas_menores} tendrán la cita a las 2pm y 4pm respectivamente')"
      ],
      "metadata": {
        "colab": {
          "base_uri": "https://localhost:8080/"
        },
        "id": "ml1SdzChPrXo",
        "outputId": "7ed29ae7-630e-4f8b-9251-70051ae1fa27"
      },
      "execution_count": 61,
      "outputs": [
        {
          "output_type": "stream",
          "name": "stdout",
          "text": [
            "¡Hola! Soy Lucía del sistema de asignación de turnos para pasaporte de la Gobernación \n",
            " Solo las personas mayores de edad tendrán su cita mañana en el rango de 6am a 12 pm \n",
            " y los menores de edad la tendrán en el rango de 2pm a 6pm \n",
            " \n",
            "[('Pedro', 33), ('Carla', 45)] tendrán la cita a las 8am y 10am respectivamente\n",
            "[('Ana', 3), ('Juan', 13)] tendrán la cita a las 2pm y 4pm respectivamente\n"
          ]
        }
      ]
    },
    {
      "cell_type": "code",
      "source": [
        "##Ejercicio Ana\n",
        "##Lambda\n",
        "print(\"¡Hola! Soy Lucía del sistema de asignación de turnos para pasaporte de la Gobernación \\n Solo las personas mayores de edad tendrán su cita mañana en el rango de 6am a 12 pm \\n y los menores de edad la tendrán en el rango de 2pm a 6pm \\n \" )\n",
        "personas=[('Pedro',33),('Ana',3),('Juan',13),('Carla',45)]\n",
        "perma=list(filter(lambda may: may[1]>=18,personas ))\n",
        "perma\n",
        "print(f'{perma} tendrán la cita a las 8am y 10am respectivamente')\n",
        "\n",
        "perme=list(filter(lambda men: men[1]<18,personas ))\n",
        "perme\n",
        "print(f'{perme} tendrán la cita a las 2pm y 4pm respectivamente')"
      ],
      "metadata": {
        "colab": {
          "base_uri": "https://localhost:8080/"
        },
        "id": "iEwhuCUZPxpG",
        "outputId": "b47d3752-b6c6-42a7-b842-097346656631"
      },
      "execution_count": 62,
      "outputs": [
        {
          "output_type": "stream",
          "name": "stdout",
          "text": [
            "¡Hola! Soy Lucía del sistema de asignación de turnos para pasaporte de la Gobernación \n",
            " Solo las personas mayores de edad tendrán su cita mañana en el rango de 6am a 12 pm \n",
            " y los menores de edad la tendrán en el rango de 2pm a 6pm \n",
            " \n",
            "[('Pedro', 33), ('Carla', 45)] tendrán la cita a las 8am y 10am respectivamente\n",
            "[('Ana', 3), ('Juan', 13)] tendrán la cita a las 2pm y 4pm respectivamente\n"
          ]
        }
      ]
    }
  ]
}