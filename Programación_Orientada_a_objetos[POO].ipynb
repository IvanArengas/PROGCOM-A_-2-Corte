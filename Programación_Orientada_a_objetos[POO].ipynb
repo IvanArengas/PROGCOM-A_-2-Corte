{
  "nbformat": 4,
  "nbformat_minor": 0,
  "metadata": {
    "colab": {
      "provenance": []
    },
    "kernelspec": {
      "name": "python3",
      "display_name": "Python 3"
    },
    "language_info": {
      "name": "python"
    }
  },
  "cells": [
    {
      "cell_type": "markdown",
      "source": [
        "##POO o programación orientada a objetos\n",
        "\n",
        "Clase es como un **MOLDE**\n",
        "\n",
        "*Variables-->atributos\n",
        "\n",
        "*Funciones-->Métodos\n",
        "\n",
        "*Constructor-->Constituye una clase\n",
        "\n",
        "*Objetos: comparten atributos, métodos, relaciones que tienen una identidad propia"
      ],
      "metadata": {
        "id": "hIbzwwiwDk2V"
      }
    },
    {
      "cell_type": "code",
      "execution_count": null,
      "metadata": {
        "id": "OWuxtB9M_EdQ"
      },
      "outputs": [],
      "source": [
        "class Mascotas:\n",
        "  pass"
      ]
    },
    {
      "cell_type": "code",
      "source": [
        "a=Mascotas\n",
        "b=Mascotas"
      ],
      "metadata": {
        "id": "kOWcGbEXE7ZZ"
      },
      "execution_count": null,
      "outputs": []
    },
    {
      "cell_type": "code",
      "source": [
        "if a==b:\n",
        "  print(\"Son igualitos\")\n",
        "else:\n",
        "  print(\"No son igualitos\")  "
      ],
      "metadata": {
        "colab": {
          "base_uri": "https://localhost:8080/"
        },
        "id": "4HCW0s2cGQL5",
        "outputId": "e313b500-7403-46db-bd29-9fc101100f3d"
      },
      "execution_count": null,
      "outputs": [
        {
          "output_type": "stream",
          "name": "stdout",
          "text": [
            "Son igualitos\n"
          ]
        }
      ]
    },
    {
      "cell_type": "code",
      "source": [
        "class Empleado():\n",
        "  #Construyendo un constructor\n",
        "  def __init__(self,nombre,edad,Id,salario):\n",
        "    self.nombre=nombre\n",
        "    self.edad=edad\n",
        "    self.Id=Id\n",
        "    self.salario=salario\n",
        "  def __repr__(self): \n",
        "   return f\"nombre: {self.nombre} , edad: {self.edad} , Id:{self.Id} , salario: {self.salario} \""
      ],
      "metadata": {
        "id": "YQ6XUHc4Gzfw"
      },
      "execution_count": null,
      "outputs": []
    },
    {
      "cell_type": "code",
      "source": [
        "sonia=Empleado(\"Sonia\",25,\"U00152314\",10000000)\n",
        "sonia"
      ],
      "metadata": {
        "colab": {
          "base_uri": "https://localhost:8080/"
        },
        "id": "4YBVaaLWHeUR",
        "outputId": "fc2176eb-caad-42eb-a2e4-fa9ea039ebce"
      },
      "execution_count": null,
      "outputs": [
        {
          "output_type": "execute_result",
          "data": {
            "text/plain": [
              "nombre: Sonia , edad: 25 , Id:U00152314 , salario: 10000000 "
            ]
          },
          "metadata": {},
          "execution_count": 22
        }
      ]
    },
    {
      "cell_type": "code",
      "source": [
        "sonia.__dict__"
      ],
      "metadata": {
        "colab": {
          "base_uri": "https://localhost:8080/"
        },
        "id": "LalnypjDIeLm",
        "outputId": "aeb3b136-438c-49aa-b7fe-86aa8133adf0"
      },
      "execution_count": null,
      "outputs": [
        {
          "output_type": "execute_result",
          "data": {
            "text/plain": [
              "{'nombre': 'Sonia', 'edad': 25, 'Id': 'U00152314', 'salario': 10000000}"
            ]
          },
          "metadata": {},
          "execution_count": 23
        }
      ]
    },
    {
      "cell_type": "code",
      "source": [
        "madaniel=Empleado(\"Pirulais\",83,\"U001512345\",1000000)"
      ],
      "metadata": {
        "id": "ulygwuDbNtQc"
      },
      "execution_count": null,
      "outputs": []
    },
    {
      "cell_type": "code",
      "source": [
        "if sonia.salario==madaniel.salario:\n",
        "  print(f\"El salario de {madaniel.nombre} y {sonia.nombre}son iguales\")\n",
        "elif sonia.salario>madaniel.salario:\n",
        "  print(f\"El salario de {madaniel.nombre} es menor al de {sonia.nombre}\")\n",
        "else:\n",
        "  print(f\"El salario de {madaniel.nombre} es mayor al de {sonia.nombre}\")"
      ],
      "metadata": {
        "colab": {
          "base_uri": "https://localhost:8080/"
        },
        "id": "Y1lVitLAN6a-",
        "outputId": "dc287703-3984-4c9c-cbd0-376840133833"
      },
      "execution_count": null,
      "outputs": [
        {
          "output_type": "stream",
          "name": "stdout",
          "text": [
            "El salario de Pirulais es menor al de Sonia\n"
          ]
        }
      ]
    },
    {
      "cell_type": "code",
      "source": [
        "##Calculadora\n",
        "class Fraccion:\n",
        "  #Atributos de clase\n",
        "  num=0\n",
        "  den=1\n",
        "  #Creando el constructor:\n",
        "  def __init__(self,num=0,den=1):\n",
        "    self.num=num\n",
        "    self.den=den\n",
        "\n",
        "  def multiplica(self,b):  \n",
        "    num=self.num*b.num\n",
        "    den=self.den*b.den\n",
        "    r=Fraccion(num,den)\n",
        "    return r\n",
        "  def imprime(self):\n",
        "    print(self.num,\"/\",self.den)  "
      ],
      "metadata": {
        "id": "CYgRcl3wOxEr"
      },
      "execution_count": null,
      "outputs": []
    },
    {
      "cell_type": "code",
      "source": [
        "#Creando objetos tipo fracción\n",
        "a1=Fraccion(4,5)\n",
        "a2=Fraccion(8,9)"
      ],
      "metadata": {
        "id": "kKsspcywRPpD"
      },
      "execution_count": null,
      "outputs": []
    },
    {
      "cell_type": "code",
      "source": [
        "a1.imprime()\n",
        "a2.imprime()"
      ],
      "metadata": {
        "colab": {
          "base_uri": "https://localhost:8080/"
        },
        "id": "5NT1rIc_Rhia",
        "outputId": "9904c7ca-fc39-4fc6-e6f2-fd6249af01f0"
      },
      "execution_count": null,
      "outputs": [
        {
          "output_type": "stream",
          "name": "stdout",
          "text": [
            "4 / 5\n",
            "8 / 9\n"
          ]
        }
      ]
    },
    {
      "cell_type": "code",
      "source": [
        "c=a1.multiplica(a2)\n",
        "c.imprime()"
      ],
      "metadata": {
        "colab": {
          "base_uri": "https://localhost:8080/"
        },
        "id": "MdcUf_-5S5EX",
        "outputId": "1cbbbb38-d2b4-482d-8553-76f11862deed"
      },
      "execution_count": null,
      "outputs": [
        {
          "output_type": "stream",
          "name": "stdout",
          "text": [
            "32 / 45\n"
          ]
        }
      ]
    }
  ]
}