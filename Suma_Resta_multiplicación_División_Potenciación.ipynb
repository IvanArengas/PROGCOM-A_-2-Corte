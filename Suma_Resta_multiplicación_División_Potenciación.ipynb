{
  "nbformat": 4,
  "nbformat_minor": 0,
  "metadata": {
    "colab": {
      "provenance": []
    },
    "kernelspec": {
      "name": "python3",
      "display_name": "Python 3"
    },
    "language_info": {
      "name": "python"
    }
  },
  "cells": [
    {
      "cell_type": "code",
      "execution_count": 15,
      "metadata": {
        "id": "wbF-YQNUyaBX"
      },
      "outputs": [],
      "source": [
        "class CalculadoraFracciones():\n",
        "  def fracciones(self):\n",
        "    self.resultado=0\n",
        "    self.num1=0\n",
        "    self.num2=0\n",
        "    self.den1=1\n",
        "    self.den2=1\n",
        "  def suma(self):\n",
        "    self.resultado = print((self.num1 + self.num2),\"/\",(self.den1 *self.den2))\n",
        "  def resta(self):\n",
        "    self.resultado = print((self.num1 - self.num2),\"/\",(self.den1 *self.den2))\n",
        "  def multiplicacion(self):\n",
        "    self.resultado = print((self.num1 * self.num2),\"/\",(self.den1 *self.den2))\n",
        "  def division(self):\n",
        "    self.resultado = print((self.num1 * self.den2),\"/\",(self.den1 *self.num2))\n",
        "  def respuesta(self):\n",
        "    return self.resultado\n"
      ]
    },
    {
      "cell_type": "code",
      "source": [
        "calcu = CalculadoraFracciones()\n",
        "calcu.num1 = int(input(\"Compa digame un número que será el primer numerador \"))\n",
        "calcu.den1 = int(input(\"Compa digame un número que será el primer denominador \"))\n",
        "calcu.num2 = int(input(\"Compa digame un número que será el segundo numerador \"))\n",
        "calcu.den2 = int(input(\"Compa digame un número que será el segundo denominador \"))\n",
        "\n",
        "print(\"Esta es la resta de las fracciones que seleccionaste\"),calcu.resta()\n",
        "\n",
        "print(\"Esta es la suma de las fracciones que seleccionaste\"),calcu.suma()\n",
        "\n",
        "print(\"Esta es la multiplicación de las fracciones que seleccionaste\"),calcu.multiplicacion()\n",
        "\n",
        "print(\"Esta es la división de las fracciones que seleccionaste\"), calcu.division()\n"
      ],
      "metadata": {
        "colab": {
          "base_uri": "https://localhost:8080/"
        },
        "id": "C9CKIMT0ymVv",
        "outputId": "492d69ba-8fd4-4e5f-8321-eea675247134"
      },
      "execution_count": 17,
      "outputs": [
        {
          "output_type": "stream",
          "name": "stdout",
          "text": [
            "Compa digame un número que será el primer numerador 8\n",
            "Compa digame un número que será el primer denominador 7\n",
            "Compa digame un número que será el segundo numerador 5\n",
            "Compa digame un número que será el segundo denominador 3\n",
            "Esta es la resta de las fracciones que seleccionaste\n",
            "3 / 21\n",
            "Esta es la suma de las fracciones que seleccionaste\n",
            "13 / 21\n",
            "Esta es la multiplicación de las fracciones que seleccionaste\n",
            "40 / 21\n",
            "Esta es la división de las fracciones que seleccionaste\n",
            "24 / 35\n"
          ]
        },
        {
          "output_type": "execute_result",
          "data": {
            "text/plain": [
              "(None, None)"
            ]
          },
          "metadata": {},
          "execution_count": 17
        }
      ]
    },
    {
      "cell_type": "markdown",
      "source": [
        "## Potenciación"
      ],
      "metadata": {
        "id": "-3odsmfeFGPx"
      }
    },
    {
      "cell_type": "code",
      "source": [
        "class Fraccion():\n",
        "  nume=0\n",
        "  deno=0\n",
        "  exp=0\n",
        "\n",
        "  def __init__(self,nume=0,deno=0,exp=0):\n",
        "    self.nume=nume\n",
        "    self.deno=deno\n",
        "    self.exp=exp\n",
        "\n",
        "  def potencia(self):\n",
        "    if self.exp <0:\n",
        "      nume=self.deno**self.exp\n",
        "      deno=self.nume**self.exp\n",
        "    elif self.exp==0:\n",
        "      nume=1\n",
        "      deno=1\n",
        "    else:\n",
        "      nume=self.nume**self.exp\n",
        "      deno=self.deno**self.exp\n",
        "      \n",
        "    re=Fraccion(nume,deno)\n",
        "    print(re.nume,\"/\",re.deno)\n",
        "    \n",
        "  \n",
        "  def imprime(self):\n",
        "    print(self.nume,\"/\",self.deno)\n",
        "  \n"
      ],
      "metadata": {
        "id": "mfeoinVFFEbp"
      },
      "execution_count": 21,
      "outputs": []
    },
    {
      "cell_type": "code",
      "source": [
        "b=Fraccion(1,2,-7)\n",
        "b.potencia()"
      ],
      "metadata": {
        "colab": {
          "base_uri": "https://localhost:8080/"
        },
        "id": "p5Tzl5X1HfLD",
        "outputId": "e0254771-9130-4c1f-b8a1-e4539bdefa9f"
      },
      "execution_count": 22,
      "outputs": [
        {
          "output_type": "stream",
          "name": "stdout",
          "text": [
            "0.0078125 / 1.0\n"
          ]
        }
      ]
    },
    {
      "cell_type": "code",
      "source": [
        "c=Fraccion(3,7,0)\n",
        "c.potencia()"
      ],
      "metadata": {
        "colab": {
          "base_uri": "https://localhost:8080/"
        },
        "id": "vzqDrODAHxh6",
        "outputId": "c9fd0712-ba5d-42e6-afe7-76698c51d13a"
      },
      "execution_count": 23,
      "outputs": [
        {
          "output_type": "stream",
          "name": "stdout",
          "text": [
            "1 / 1\n"
          ]
        }
      ]
    }
  ]
}