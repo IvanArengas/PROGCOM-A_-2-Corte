{
  "nbformat": 4,
  "nbformat_minor": 0,
  "metadata": {
    "colab": {
      "provenance": []
    },
    "kernelspec": {
      "name": "python3",
      "display_name": "Python 3"
    },
    "language_info": {
      "name": "python"
    }
  },
  "cells": [
    {
      "cell_type": "code",
      "execution_count": null,
      "metadata": {
        "id": "KeyxweuZsLVY"
      },
      "outputs": [],
      "source": [
        "class Espadas(): #Clase padre\n",
        "  nombre=\"Soy una espada\"\n",
        "  daño=\"Causo daño\"\n",
        "  def __init__(self,nombre,daño):\n",
        "    self.nombre = nombre\n",
        "    self.daño = daño\n",
        "  def __repr__(self):\n",
        "    return f\"espada de : {self.nombre}, y causa:{self.daño} de daño\""
      ]
    },
    {
      "cell_type": "code",
      "source": [
        "class Espada_elemental(Espadas): #Clase de hija\n",
        "  def masatributos(self,elemento,tamaño,durabilidad,color):\n",
        "    self.elemento = elemento\n",
        "    self.tamaño = tamaño\n",
        "    self.durabilidad = durabilidad\n",
        "    self.color = color"
      ],
      "metadata": {
        "id": "DUdOUX0HGobA"
      },
      "execution_count": null,
      "outputs": []
    },
    {
      "cell_type": "code",
      "source": [
        "espadaivan=Espada_elemental(\"La espantaruinas\", 300) #3 Atributos clase madre\n",
        "espadaivan"
      ],
      "metadata": {
        "colab": {
          "base_uri": "https://localhost:8080/"
        },
        "id": "xEdWFVbAI4if",
        "outputId": "efbbbb4d-9f2d-4237-ea90-c92ecf8359ca"
      },
      "execution_count": null,
      "outputs": [
        {
          "output_type": "execute_result",
          "data": {
            "text/plain": [
              "espada de : La espantaruinas, y causa:300 de daño"
            ]
          },
          "metadata": {},
          "execution_count": 24
        }
      ]
    },
    {
      "cell_type": "code",
      "source": [
        "espadaivan.masatributos(\"Diamante encantado\", 25 , 105 , \"Naranja\")#Atributos clase hija\n",
        "espadaivan.__dict__ #Nombre y daño heredados de la clase madre"
      ],
      "metadata": {
        "colab": {
          "base_uri": "https://localhost:8080/"
        },
        "id": "Iu0I9YJPJj4Y",
        "outputId": "da5b237f-ee82-4602-b1f2-3013da63d155"
      },
      "execution_count": null,
      "outputs": [
        {
          "output_type": "execute_result",
          "data": {
            "text/plain": [
              "{'nombre': 'La espantaruinas',\n",
              " 'daño': 300,\n",
              " 'elemento': 'Diamante encantado',\n",
              " 'tamaño': 25,\n",
              " 'durabilidad': 105,\n",
              " 'color': 'Naranja'}"
            ]
          },
          "metadata": {},
          "execution_count": 25
        }
      ]
    },
    {
      "cell_type": "code",
      "source": [
        "class Humano():\n",
        "  def __init__(self,nombre,edad,cuerpo,piernas,brazos,ojos,cabello,nariz,color_piel):\n",
        "    self.nombre=nombre\n",
        "    self.edad=edad\n",
        "    self.cuerpo=cuerpo\n",
        "    self.piernas=piernas\n",
        "    self.brazos=brazos\n",
        "    self.ojos=ojos\n",
        "    self.cabello=cabello\n",
        "    self.nariz=nariz\n",
        "    self.color_piel=color_piel\n",
        "  def caminar(self,aceleracion,velocidad):\n",
        "    if velocidad>0.5 and velocidad<1:\n",
        "      return f\"{self.nombre} está gateando\"\n",
        "    if velocidad>2 and velocidad<4:\n",
        "      return f\"{self.nombre} está caminando\"    \n",
        "    if velocidad>=5 and velocidad<7:\n",
        "      return f\"{self.nombre} está trotando\"\n",
        "    if velocidad>=7 and velocidad<10:\n",
        "      return f\"{self.nombre} está corriendo\"\n",
        "    if velocidad>=1 and velocidad<2:\n",
        "      return f\"{self.nombre} está cojeando\"\n",
        "    else:\n",
        "      return f\"{self.nombre} está trotando\"\n",
        "\n",
        "  def comer(self,saciedad):\n",
        "    if saciedad==0:\n",
        "      return f\"{self.nombre} tengo hambre\"\n",
        "    if saciedad>0 and saciedad<1:\n",
        "      return f\"{self.nombre} sigo con hambre pero no tanto\"\n",
        "    if saciedad>=1 and saciedad<1:\n",
        "      return f\"{self.nombre} estoy algo saciado\"\n",
        "    if saciedad>=2 and saciedad<4:\n",
        "      return f\"{self.nombre} estoy bien\"\n",
        "    else:\n",
        "      return f\"{self.nombre} estoy lleno bien\""
      ],
      "metadata": {
        "id": "8UuzGzW1ZIrj"
      },
      "execution_count": 27,
      "outputs": []
    },
    {
      "cell_type": "code",
      "source": [
        "esudiante=Humano('Iván',16,'delgado',2,2,'negros','rubio y corto',1,'castaño')\n",
        "esudiante.__dict__"
      ],
      "metadata": {
        "colab": {
          "base_uri": "https://localhost:8080/"
        },
        "id": "fBhZccwPZ9mh",
        "outputId": "c31713a1-3f0a-4bf9-c7d2-0cd50b0618e3"
      },
      "execution_count": 28,
      "outputs": [
        {
          "output_type": "execute_result",
          "data": {
            "text/plain": [
              "{'nombre': 'Iván',\n",
              " 'edad': 16,\n",
              " 'cuerpo': 'delgado',\n",
              " 'piernas': 2,\n",
              " 'brazos': 2,\n",
              " 'ojos': 'negros',\n",
              " 'cabello': 'rubio y corto',\n",
              " 'nariz': 1,\n",
              " 'color_piel': 'castaño'}"
            ]
          },
          "metadata": {},
          "execution_count": 28
        }
      ]
    },
    {
      "cell_type": "code",
      "source": [
        "esudiante.caminar(13,2)"
      ],
      "metadata": {
        "colab": {
          "base_uri": "https://localhost:8080/",
          "height": 35
        },
        "id": "BIBv6YUbaI7g",
        "outputId": "5bd5cc56-f969-4d54-861c-11a61471b4c2"
      },
      "execution_count": 29,
      "outputs": [
        {
          "output_type": "execute_result",
          "data": {
            "text/plain": [
              "'Iván está trotando'"
            ],
            "application/vnd.google.colaboratory.intrinsic+json": {
              "type": "string"
            }
          },
          "metadata": {},
          "execution_count": 29
        }
      ]
    },
    {
      "cell_type": "code",
      "source": [
        "esudiante.comer(3)"
      ],
      "metadata": {
        "colab": {
          "base_uri": "https://localhost:8080/",
          "height": 35
        },
        "id": "t8fXCZAraK04",
        "outputId": "a43e1111-180c-4b18-ac12-f1d04cc1154c"
      },
      "execution_count": 30,
      "outputs": [
        {
          "output_type": "execute_result",
          "data": {
            "text/plain": [
              "'Iván estoy bien'"
            ],
            "application/vnd.google.colaboratory.intrinsic+json": {
              "type": "string"
            }
          },
          "metadata": {},
          "execution_count": 30
        }
      ]
    }
  ]
}