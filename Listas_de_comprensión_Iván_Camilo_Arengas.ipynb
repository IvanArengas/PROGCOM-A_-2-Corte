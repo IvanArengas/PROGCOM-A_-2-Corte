{
  "nbformat": 4,
  "nbformat_minor": 0,
  "metadata": {
    "colab": {
      "provenance": [],
      "collapsed_sections": []
    },
    "kernelspec": {
      "name": "python3",
      "display_name": "Python 3"
    },
    "language_info": {
      "name": "python"
    }
  },
  "cells": [
    {
      "cell_type": "markdown",
      "source": [
        "Sintaxis. NewLista=[expresión(elemento)for elemento n in OldLista si condición.\n",
        "\n",
        "Poner primero la expresión u operación y luego la condición.\n",
        "\n",
        "##Ventajas:\n",
        "Más eficientes y espacio que los bucles.\n",
        "\n",
        "Requiere menos líneas de código.\n",
        "\n",
        "Transformar una declaración iterativa en una fórmula.\n"
      ],
      "metadata": {
        "id": "lqrf9psY_F0l"
      }
    },
    {
      "cell_type": "code",
      "source": [
        "números=[(n*2)for n in range(1,9)]\n",
        "print(números)"
      ],
      "metadata": {
        "colab": {
          "base_uri": "https://localhost:8080/"
        },
        "id": "E_IomYmgHsI6",
        "outputId": "0083382f-77e8-4637-90a7-cb62d92e1d60"
      },
      "execution_count": 62,
      "outputs": [
        {
          "output_type": "stream",
          "name": "stdout",
          "text": [
            "[2, 4, 6, 8, 10, 12, 14, 16]\n"
          ]
        }
      ]
    },
    {
      "cell_type": "code",
      "source": [
        "cadenas=[\"*\" * n for n in range(1,6)]\n",
        "print(cadenas)"
      ],
      "metadata": {
        "colab": {
          "base_uri": "https://localhost:8080/"
        },
        "id": "K85cntr--1a7",
        "outputId": "02e8af49-c388-4062-9994-eb4b72f9f4f8"
      },
      "execution_count": 55,
      "outputs": [
        {
          "output_type": "stream",
          "name": "stdout",
          "text": [
            "['*', '**', '***', '****', '*****']\n"
          ]
        }
      ]
    },
    {
      "cell_type": "code",
      "source": [
        "#Ejercicio de Samuel\n",
        "x=input(\"Ingrese la palabra que desee: \")\n",
        "lista=[n for n in x]\n",
        "print(lista)"
      ],
      "metadata": {
        "colab": {
          "base_uri": "https://localhost:8080/"
        },
        "id": "lK2FhcUNCfsP",
        "outputId": "458bf044-12c1-4db7-bff4-fbc04a6cb134"
      },
      "execution_count": 57,
      "outputs": [
        {
          "output_type": "stream",
          "name": "stdout",
          "text": [
            "Ingrese la palabra que desee: ivan\n",
            "['i', 'v', 'a', 'n']\n"
          ]
        }
      ]
    },
    {
      "cell_type": "code",
      "source": [
        "#Ejercicio de daniel amado\n",
        "lista1=[8,5,4,10,2]\n",
        "lista2=[elementos**2 for elementos in lista1 if elementos %2==0]\n",
        "print(\"Imprime los números pares de la lista\",lista2)"
      ],
      "metadata": {
        "colab": {
          "base_uri": "https://localhost:8080/"
        },
        "id": "bcO3Z3tq-1OM",
        "outputId": "86dd1d5f-3264-4020-bec1-9cc2e0772df7"
      },
      "execution_count": 56,
      "outputs": [
        {
          "output_type": "stream",
          "name": "stdout",
          "text": [
            "Imprime los números pares de la lista [64, 16, 100, 4]\n"
          ]
        }
      ]
    },
    {
      "cell_type": "code",
      "source": [
        "#Ejercicio de Iván Arengas\n",
        "import random\n",
        "capitan = [random.randrange(1, 30) for i in range(9)]\n",
        "print (\"Imprime números aleatorios de la lista : \", str(capitan))"
      ],
      "metadata": {
        "colab": {
          "base_uri": "https://localhost:8080/"
        },
        "id": "qvKk6Dg4sGoF",
        "outputId": "b2bebf0d-efef-4f85-f997-75aa38f6d02e"
      },
      "execution_count": 52,
      "outputs": [
        {
          "output_type": "stream",
          "name": "stdout",
          "text": [
            "Imprime números aleatorios de la lista :  [23, 9, 25, 14, 20, 3, 8, 29, 22]\n"
          ]
        }
      ]
    },
    {
      "cell_type": "code",
      "source": [
        "#Ejercicio Juan pablo barajas\n",
        "precios=[]\n",
        "print(\"Ingrese los números de los que quieres hacer un descuento\")\n",
        "det= True\n",
        "while det:\n",
        "  num=int(input(\" Si no desea agregar mas números digite 0 \"))\n",
        "  precios.append(num)\n",
        "  det = False if num== 0 else num>0\n",
        "des=float(input((\" Ingrese el descuento sin el %\")))\n",
        "presdes= [precio*des/100 for precio in precios]  \n",
        "presdes.pop(-1)\n",
        "print(\" Este es el valor que le debes restar a cada número \",presdes)\n"
      ],
      "metadata": {
        "colab": {
          "base_uri": "https://localhost:8080/"
        },
        "id": "WcxBId0zFI6m",
        "outputId": "eca2b42d-8f1a-4514-d83e-29cd52f335e4"
      },
      "execution_count": 61,
      "outputs": [
        {
          "output_type": "stream",
          "name": "stdout",
          "text": [
            "Ingrese los números de los que quieres hacer un descuento\n",
            " Si no desea agregar mas números digite 0 100\n",
            " Si no desea agregar mas números digite 0 200\n",
            " Si no desea agregar mas números digite 0 300\n",
            " Si no desea agregar mas números digite 0 0\n",
            " Ingrese el descuento sin el %20\n",
            " Este es el valor que le debes restar a cada número  [20.0, 40.0, 60.0]\n"
          ]
        }
      ]
    },
    {
      "cell_type": "code",
      "source": [
        "#Ejercicio de Acuña Sin palabras\n",
        "num = []\n",
        "for i in range(6):\n",
        "  num.append(int(input(\" Introduce el número ganador \")))\n",
        "num.sort()\n",
        "print(\"Los números ganadores del baloto son : \" + str(num))  "
      ],
      "metadata": {
        "colab": {
          "base_uri": "https://localhost:8080/"
        },
        "id": "x0TGKYxZHdKa",
        "outputId": "f852d992-c62b-4733-c6c3-b1c38bf229e4"
      },
      "execution_count": 64,
      "outputs": [
        {
          "output_type": "stream",
          "name": "stdout",
          "text": [
            " Introduce el número ganador 82\n",
            " Introduce el número ganador 23\n",
            " Introduce el número ganador 35\n",
            " Introduce el número ganador 99\n",
            " Introduce el número ganador 1\n",
            " Introduce el número ganador 12\n",
            "Los números ganadores del baloto son : [1, 12, 23, 35, 82, 99]\n"
          ]
        }
      ]
    }
  ]
}