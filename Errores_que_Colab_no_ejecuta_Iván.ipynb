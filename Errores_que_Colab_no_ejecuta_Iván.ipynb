{
  "nbformat": 4,
  "nbformat_minor": 0,
  "metadata": {
    "colab": {
      "provenance": []
    },
    "kernelspec": {
      "name": "python3",
      "display_name": "Python 3"
    },
    "language_info": {
      "name": "python"
    }
  },
  "cells": [
    {
      "cell_type": "markdown",
      "source": [
        "1. Al guardar información nueva, genera error y no permite llamar las variables, entonces se desconecta el entorno de ejecución."
      ],
      "metadata": {
        "id": "9upsXEO3bc36"
      }
    },
    {
      "cell_type": "markdown",
      "source": [
        "2. Es indispensable tener una GPU de google para programar."
      ],
      "metadata": {
        "id": "YBAx_bZ6b3OO"
      }
    },
    {
      "cell_type": "markdown",
      "source": [
        "3. Colab después de 12 horas seguidas conectadas en un mismo dispositivo."
      ],
      "metadata": {
        "id": "BF78hYN2b-6_"
      }
    },
    {
      "cell_type": "markdown",
      "source": [
        "4. No se pueden agregar botones."
      ],
      "metadata": {
        "id": "0Id-Hfb4cMup"
      }
    },
    {
      "cell_type": "code",
      "source": [
        "Button(self.a,image=self.foto,width=70,height=70,command=self.agregarProducto).place(x=300,y=40)"
      ],
      "metadata": {
        "id": "7Y25-m5kc_SV"
      },
      "execution_count": null,
      "outputs": []
    },
    {
      "cell_type": "markdown",
      "source": [
        "5. No se puede minar criptomonedas"
      ],
      "metadata": {
        "id": "ArwZDpWSc_-5"
      }
    },
    {
      "cell_type": "code",
      "source": [
        "import learninglib"
      ],
      "metadata": {
        "id": "jThRNWsjdEab"
      },
      "execution_count": null,
      "outputs": []
    },
    {
      "cell_type": "markdown",
      "source": [
        "6. No poder identificar o llamar en algunos casos algún tipo de librería importada."
      ],
      "metadata": {
        "id": "h3SqgDGbdGQZ"
      }
    },
    {
      "cell_type": "code",
      "source": [
        "import maratlib"
      ],
      "metadata": {
        "id": "Yl8CWuE3dLCl"
      },
      "execution_count": null,
      "outputs": []
    },
    {
      "cell_type": "markdown",
      "source": [
        "7. No se puede ejecutar sin conexión a internet."
      ],
      "metadata": {
        "id": "roKWarpfdOox"
      }
    },
    {
      "cell_type": "markdown",
      "source": [
        "8. No se pueden agregar elementos multimedia en código"
      ],
      "metadata": {
        "id": "5L-tAKtedTub"
      }
    },
    {
      "cell_type": "markdown",
      "source": [
        "9. Craquear Contraseñas"
      ],
      "metadata": {
        "id": "BY-x9TNBdbGL"
      }
    },
    {
      "cell_type": "markdown",
      "source": [
        "10. Crear ultrafalsos."
      ],
      "metadata": {
        "id": "DlLoMDXQeJcl"
      }
    },
    {
      "cell_type": "markdown",
      "source": [
        "11. Google colab genera errores cuando el contenido es compartido ya que puede ser modificado al mismo tiempo por lo que alguno podría alterar el programa sin ser registrado"
      ],
      "metadata": {
        "id": "SKTMs9MveJZ6"
      }
    },
    {
      "cell_type": "markdown",
      "source": [
        "12. Necesita tener flexibilidad para ajustar dinámicamente los límites de uso y la disponibilidad de hardware."
      ],
      "metadata": {
        "id": "M8AKnPCfeJWp"
      }
    },
    {
      "cell_type": "markdown",
      "source": [
        "13. No se puede conectar a proxies remotos."
      ],
      "metadata": {
        "id": "CLWDBpxveJTj"
      }
    },
    {
      "cell_type": "markdown",
      "source": [
        "14. No se puede Descargar torrents o compartir archivos de punto a punto."
      ],
      "metadata": {
        "id": "JOPZ81f8eJOA"
      }
    },
    {
      "cell_type": "markdown",
      "source": [
        "15. Usar un escritorio remoto o SSH."
      ],
      "metadata": {
        "id": "KWk0lzIzeJHg"
      }
    },
    {
      "cell_type": "markdown",
      "source": [
        "16. Las operaciones de Google Drive pueden agotar el tiempo de espera cuando el número de archivos o subcarpetas de una carpeta se vuelve demasiado grande, sin superar el límite necesariamente."
      ],
      "metadata": {
        "id": "h3Kr4PmxeI93"
      }
    },
    {
      "cell_type": "markdown",
      "source": [
        "17. No tiene cuota de almacenamiento ilimitada"
      ],
      "metadata": {
        "id": "u3kAyt4eeIh1"
      }
    },
    {
      "cell_type": "markdown",
      "source": [
        "18. No se pueden poner entradas por caja de texto (Entry) "
      ],
      "metadata": {
        "id": "tV8pyWNSfGAF"
      }
    },
    {
      "cell_type": "code",
      "source": [
        "Entry(self.c,textvariable=self.t).place(x=110,y=240)"
      ],
      "metadata": {
        "id": "IkOWk_ecf3da"
      },
      "execution_count": null,
      "outputs": []
    },
    {
      "cell_type": "markdown",
      "source": [
        "19. Colab genera error cuando está realizando una ejecución muy prolongada y muy potente, el entorno se desconecte"
      ],
      "metadata": {
        "id": "fFlZlxXofFvQ"
      }
    },
    {
      "cell_type": "markdown",
      "source": [
        "20. En el uso de intercatividad no se pueden alojar contenido multimedia, archivos u otros servicios web que no esten relacionados con este."
      ],
      "metadata": {
        "id": "efAka9u3fFZi"
      }
    }
  ]
}