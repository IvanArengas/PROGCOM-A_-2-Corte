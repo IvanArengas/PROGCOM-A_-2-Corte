{
  "nbformat": 4,
  "nbformat_minor": 0,
  "metadata": {
    "colab": {
      "provenance": []
    },
    "kernelspec": {
      "name": "python3",
      "display_name": "Python 3"
    },
    "language_info": {
      "name": "python"
    }
  },
  "cells": [
    {
      "cell_type": "markdown",
      "source": [
        "##Ejercicos de Funciones\n",
        "\n",
        "# Número 1"
      ],
      "metadata": {
        "id": "IYEPoXa-h6S2"
      }
    },
    {
      "cell_type": "code",
      "source": [
        "def npc(a,b):\n",
        "  if a>b:\n",
        "    return a\n",
        "  return b"
      ],
      "metadata": {
        "id": "H2Ss90hvodao"
      },
      "execution_count": 14,
      "outputs": []
    },
    {
      "cell_type": "code",
      "source": [
        "print(npc(5,4))"
      ],
      "metadata": {
        "colab": {
          "base_uri": "https://localhost:8080/"
        },
        "id": "T_weWUVAop-K",
        "outputId": "7fd1762e-c769-4114-b36c-0b78198a56a7"
      },
      "execution_count": 15,
      "outputs": [
        {
          "output_type": "stream",
          "name": "stdout",
          "text": [
            "5\n"
          ]
        }
      ]
    },
    {
      "cell_type": "markdown",
      "source": [
        "##Número 2"
      ],
      "metadata": {
        "id": "An7g6tIopjR7"
      }
    },
    {
      "cell_type": "code",
      "source": [],
      "metadata": {
        "id": "QR3vR6qzpl3c"
      },
      "execution_count": null,
      "outputs": []
    },
    {
      "cell_type": "markdown",
      "source": [
        "## Número 3"
      ],
      "metadata": {
        "id": "vDqF9lDTqOay"
      }
    },
    {
      "cell_type": "code",
      "source": [
        "def suma(lista):\n",
        "  suma=0\n",
        "  for i in lista:\n",
        "    suma=suma+i\n",
        "  print(\"La suma de los números es\",suma)"
      ],
      "metadata": {
        "id": "ykdNhRGMsKfb"
      },
      "execution_count": 33,
      "outputs": []
    },
    {
      "cell_type": "code",
      "source": [
        "suma([3,4,5])"
      ],
      "metadata": {
        "colab": {
          "base_uri": "https://localhost:8080/"
        },
        "id": "h96lt-B_saza",
        "outputId": "8a82f931-ef56-458f-d8d0-35f1e1b6b0a8"
      },
      "execution_count": 34,
      "outputs": [
        {
          "output_type": "stream",
          "name": "stdout",
          "text": [
            "La suma de los números es 12\n"
          ]
        }
      ]
    },
    {
      "cell_type": "markdown",
      "source": [
        "##Número 4"
      ],
      "metadata": {
        "id": "A7XJZqoqreoO"
      }
    },
    {
      "cell_type": "code",
      "source": [
        "def suma(lista):\n",
        "  suma=0\n",
        "  for i in lista:\n",
        "    suma=suma+i\n",
        "  print(\"La suma de los números es\",suma)"
      ],
      "metadata": {
        "id": "NT1ItV1Ys4yq"
      },
      "execution_count": 38,
      "outputs": []
    },
    {
      "cell_type": "code",
      "source": [
        "lista=([3,4,5,6])\n",
        "suma(lista)\n"
      ],
      "metadata": {
        "colab": {
          "base_uri": "https://localhost:8080/"
        },
        "id": "3c9gzmNQrhY-",
        "outputId": "d4420884-3699-48f7-c16e-569e9fc37c89"
      },
      "execution_count": 39,
      "outputs": [
        {
          "output_type": "stream",
          "name": "stdout",
          "text": [
            "La suma de los números es 18\n"
          ]
        }
      ]
    },
    {
      "cell_type": "markdown",
      "source": [
        "## Número 5"
      ],
      "metadata": {
        "id": "8MCYKvKkrpBu"
      }
    },
    {
      "cell_type": "code",
      "source": [
        "def suma(lista):\n",
        "  suma=0\n",
        "  for i in lista:\n",
        "    suma=suma+i\n",
        "  print(\"La suma de los números es\",suma)\n"
      ],
      "metadata": {
        "id": "KRrQgkX8rpcW"
      },
      "execution_count": 40,
      "outputs": []
    },
    {
      "cell_type": "code",
      "source": [
        "lista=([8,5,3,1])\n",
        "suma(lista)"
      ],
      "metadata": {
        "colab": {
          "base_uri": "https://localhost:8080/"
        },
        "id": "0mCSJL2Uta8y",
        "outputId": "56725427-7679-463b-99b8-2f8fde018abd"
      },
      "execution_count": 48,
      "outputs": [
        {
          "output_type": "stream",
          "name": "stdout",
          "text": [
            "La suma de los números es 17\n"
          ]
        }
      ]
    },
    {
      "cell_type": "markdown",
      "source": [
        "## Número 6"
      ],
      "metadata": {
        "id": "Oa6kDTD1uOoN"
      }
    },
    {
      "cell_type": "code",
      "source": [
        "def multiplicacion(lista):\n",
        "  resultado=1\n",
        "  for i in lista:\n",
        "    resultado=resultado*i\n",
        "  return resultado  "
      ],
      "metadata": {
        "id": "00n8BtIGuQu9"
      },
      "execution_count": 56,
      "outputs": []
    },
    {
      "cell_type": "code",
      "source": [
        "lista=([0,4,5])\n",
        "multiplicacion(lista)"
      ],
      "metadata": {
        "colab": {
          "base_uri": "https://localhost:8080/"
        },
        "id": "z_DAPlnOvJMd",
        "outputId": "79bfbbf4-0d25-4f45-9079-afdb7d00e768"
      },
      "execution_count": 58,
      "outputs": [
        {
          "output_type": "execute_result",
          "data": {
            "text/plain": [
              "0"
            ]
          },
          "metadata": {},
          "execution_count": 58
        }
      ]
    },
    {
      "cell_type": "markdown",
      "source": [
        "## Número 7"
      ],
      "metadata": {
        "id": "ZiM7InijwGKf"
      }
    },
    {
      "cell_type": "code",
      "source": [
        "def multiplicacion(lista):\n",
        "  a=0\n",
        "  resultado=1\n",
        "  for i in lista:\n",
        "    resultado=resultado*i\n",
        "  return resultado  "
      ],
      "metadata": {
        "id": "1tm-U-GPwGcV"
      },
      "execution_count": 59,
      "outputs": []
    },
    {
      "cell_type": "code",
      "source": [
        "lista=([3,4,5,1])\n",
        "multiplicacion(lista)"
      ],
      "metadata": {
        "colab": {
          "base_uri": "https://localhost:8080/"
        },
        "id": "gBuCZeyMwPv9",
        "outputId": "8a0542a1-13b9-4787-9eb3-0b9e648b49f0"
      },
      "execution_count": 63,
      "outputs": [
        {
          "output_type": "execute_result",
          "data": {
            "text/plain": [
              "60"
            ]
          },
          "metadata": {},
          "execution_count": 63
        }
      ]
    },
    {
      "cell_type": "markdown",
      "source": [
        "##Número 8"
      ],
      "metadata": {
        "id": "eOvpWbLzxQk1"
      }
    },
    {
      "cell_type": "code",
      "source": [
        "def multiplicacion(lista):\n",
        "  resultado=1\n",
        "  for i in lista:\n",
        "    resultado=resultado*i\n",
        "  return resultado  "
      ],
      "metadata": {
        "id": "Oy_aDOj2xSG8"
      },
      "execution_count": 67,
      "outputs": []
    },
    {
      "cell_type": "code",
      "source": [
        "lista=([1,2,3,-1])\n",
        "multiplicacion(lista)"
      ],
      "metadata": {
        "colab": {
          "base_uri": "https://localhost:8080/"
        },
        "id": "MCCpkcdvxbbr",
        "outputId": "3df750d6-b78e-4502-fe5f-d43e809451be"
      },
      "execution_count": 73,
      "outputs": [
        {
          "output_type": "execute_result",
          "data": {
            "text/plain": [
              "-6"
            ]
          },
          "metadata": {},
          "execution_count": 73
        }
      ]
    },
    {
      "cell_type": "markdown",
      "source": [
        "##Número 9"
      ],
      "metadata": {
        "id": "S_mVi_fTxsxA"
      }
    },
    {
      "cell_type": "code",
      "source": [
        "def palabra(invertir):\n",
        "  i=invertir[-1]+invertir[-2]+invertir[-3]+invertir[-4]\n",
        "  return i"
      ],
      "metadata": {
        "id": "XzM2kLuc0H06"
      },
      "execution_count": 91,
      "outputs": []
    },
    {
      "cell_type": "code",
      "source": [
        "invertir=\"Hola\"\n",
        "palabra(invertir)"
      ],
      "metadata": {
        "colab": {
          "base_uri": "https://localhost:8080/",
          "height": 35
        },
        "id": "5Wgny3LY0zIp",
        "outputId": "f99ab520-2826-43c0-f9e5-9730d01dd4cf"
      },
      "execution_count": 92,
      "outputs": [
        {
          "output_type": "execute_result",
          "data": {
            "text/plain": [
              "'aloH'"
            ],
            "application/vnd.google.colaboratory.intrinsic+json": {
              "type": "string"
            }
          },
          "metadata": {},
          "execution_count": 92
        }
      ]
    },
    {
      "cell_type": "markdown",
      "source": [
        "## Número 10"
      ],
      "metadata": {
        "id": "rA-EmexfzsUa"
      }
    },
    {
      "cell_type": "code",
      "source": [
        "def factorial(num): \n",
        "    if num < 0: \n",
        "        print(\"El factorial de un numero negatvio no existe\")\n",
        "\n",
        "    elif num == 0: \n",
        "        return 1\n",
        "        \n",
        "    else: \n",
        "        fact = 1\n",
        "        while(num > 1): \n",
        "            fact *= num \n",
        "            num -= 1\n",
        "        return fact \n",
        "\n",
        "num = int(input(\"Ingrese un número para saber cual es el factorial de dicho número\"))\n",
        "\n",
        "print(\"El factorial de\",num,\"es\", factorial(num)) "
      ],
      "metadata": {
        "colab": {
          "base_uri": "https://localhost:8080/"
        },
        "id": "ZE7_UCKrzwEa",
        "outputId": "3792dec3-a4bd-470a-f29d-e7d29dcc2ec5"
      },
      "execution_count": 110,
      "outputs": [
        {
          "output_type": "stream",
          "name": "stdout",
          "text": [
            "Ingrese un número para saber cual es el factorial de dicho número3\n",
            "El factorial de 3 es 6\n"
          ]
        }
      ]
    },
    {
      "cell_type": "markdown",
      "source": [
        "##Número 11"
      ],
      "metadata": {
        "id": "Hizwh9Q27Cse"
      }
    },
    {
      "cell_type": "code",
      "source": [
        "def rango(num):\n",
        "  if num<20 and num>0:\n",
        "    print(\"El número que seleccionaste SI se encuentra en el rango de 0 a 20\")\n",
        "  else:\n",
        "    print(\"El número que seleccionaste NO se encuentra en el rango de 0 a 20\")  \n",
        "num=int(input(\" Ingrese un número para conocer si esta dentro del rango de 0 a 20 \"))    \n",
        "rango(num)    "
      ],
      "metadata": {
        "colab": {
          "base_uri": "https://localhost:8080/"
        },
        "id": "rxekvwZA6eFn",
        "outputId": "99d8cb43-e421-4451-d13c-567c260ba768"
      },
      "execution_count": 113,
      "outputs": [
        {
          "output_type": "stream",
          "name": "stdout",
          "text": [
            " Ingrese un número para conocer si esta dentro del rango de 0 a 20 21\n",
            "El número que seleccionaste NO se encuentra en el rango de 0 a 20\n"
          ]
        }
      ]
    },
    {
      "cell_type": "markdown",
      "source": [
        "## Número 12"
      ],
      "metadata": {
        "id": "6icuCvJN9E1M"
      }
    },
    {
      "cell_type": "code",
      "source": [
        "i = \"Programar es Mi Pasión\"\n",
        "v=0\n",
        "n=0\n",
        "for x in i: \n",
        "    if (x>='a'and x<='z'): \n",
        "          \n",
        "        \n",
        "        n=n+1                 \n",
        "    if (x>='A'and x<='Z'): \n",
        "          \n",
        "        \n",
        "        v=v+1   \n",
        "          \n",
        "print('Caracteres en minúsculas: ',n) \n",
        "print('Caracteres en e mayúsculas: ',v) "
      ],
      "metadata": {
        "colab": {
          "base_uri": "https://localhost:8080/"
        },
        "id": "WPQzO19P9HFC",
        "outputId": "64f61dce-0cd2-42b8-938a-95fe814a4453"
      },
      "execution_count": 119,
      "outputs": [
        {
          "output_type": "stream",
          "name": "stdout",
          "text": [
            "Caracteres en minúsculas:  15\n",
            "Caracteres en e mayúsculas:  3\n"
          ]
        }
      ]
    },
    {
      "cell_type": "markdown",
      "source": [
        "## Número 13"
      ],
      "metadata": {
        "id": "9ypLoRVqBUyO"
      }
    },
    {
      "cell_type": "code",
      "source": [],
      "metadata": {
        "id": "frm3OkzOBYwF"
      },
      "execution_count": null,
      "outputs": []
    },
    {
      "cell_type": "markdown",
      "source": [
        "## Número 14"
      ],
      "metadata": {
        "id": "M2L3kYIxBZoG"
      }
    },
    {
      "cell_type": "code",
      "source": [
        "i=int(input(\"Por favor digita un número \"))\n",
        "v=int(input(\"Por favor digita un número \"))\n",
        "a=int(input(\"Por favor digita un número \"))\n",
        "n=int(input(\"Por favor digita un número \"))\n",
        "listan=[i,v,a,n]\n",
        "def par(i,v,a,n):\n",
        "  if (i%2==0):\n",
        "    print(f\"{i}\")\n",
        "  if (v%2==0):\n",
        "    print(f\"{v}\")\n",
        "  if (a%2==0):\n",
        "    print(f\"{a}\")\n",
        "  if (n%2==0):\n",
        "    print(f\"{n}\")\n",
        "\n",
        "par(i,v,a,n)"
      ],
      "metadata": {
        "colab": {
          "base_uri": "https://localhost:8080/"
        },
        "id": "DFJ6VdLABbf-",
        "outputId": "8e587547-9b52-45d2-d728-f03660dc0ff7"
      },
      "execution_count": 122,
      "outputs": [
        {
          "output_type": "stream",
          "name": "stdout",
          "text": [
            "Por favor digita un número 2\n",
            "Por favor digita un número 8\n",
            "Por favor digita un número 11\n",
            "Por favor digita un número 10\n",
            "2\n",
            "8\n",
            "10\n"
          ]
        }
      ]
    },
    {
      "cell_type": "markdown",
      "source": [
        "## Número 15"
      ],
      "metadata": {
        "id": "o8lMEzQ8DNjg"
      }
    },
    {
      "cell_type": "code",
      "source": [
        "i=int(input(\"Por favor digita un número \"))\n",
        "v=int(input(\"Por favor digita un número \"))\n",
        "a=int(input(\"Por favor digita un número \"))\n",
        "n=int(input(\"Por favor digita un número \"))\n",
        "listanu=[i,v,a,n]\n",
        "def posicion(i,v,a,n):\n",
        "  print(f\"{i}\")\n",
        "  print(f\"{a}\")\n",
        "posicion(i,v,a,n)"
      ],
      "metadata": {
        "colab": {
          "base_uri": "https://localhost:8080/"
        },
        "id": "gvD5v8bhDPmg",
        "outputId": "99e96ae9-190d-4316-ca8c-acbee68b53b2"
      },
      "execution_count": 125,
      "outputs": [
        {
          "output_type": "stream",
          "name": "stdout",
          "text": [
            "Por favor digita un número 4\n",
            "Por favor digita un número 7\n",
            "Por favor digita un número 8\n",
            "Por favor digita un número 9\n",
            "4\n",
            "8\n"
          ]
        }
      ]
    }
  ]
}